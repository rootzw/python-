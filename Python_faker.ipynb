{
  "nbformat": 4,
  "nbformat_minor": 0,
  "metadata": {
    "colab": {
      "provenance": [],
      "authorship_tag": "ABX9TyOP1AUw2daFIOOsYPki92Qc"
    },
    "kernelspec": {
      "name": "python3",
      "display_name": "Python 3"
    },
    "language_info": {
      "name": "python"
    }
  },
  "cells": [
    {
      "cell_type": "code",
      "execution_count": 1,
      "metadata": {
        "colab": {
          "base_uri": "https://localhost:8080/"
        },
        "id": "vjLuCYcrBlcb",
        "outputId": "25b90431-fd5d-44e8-800c-3f439acac06b"
      },
      "outputs": [
        {
          "output_type": "stream",
          "name": "stdout",
          "text": [
            "Collecting Faker\n",
            "  Downloading faker-37.5.3-py3-none-any.whl.metadata (15 kB)\n",
            "Requirement already satisfied: tzdata in /usr/local/lib/python3.12/dist-packages (from Faker) (2025.2)\n",
            "Downloading faker-37.5.3-py3-none-any.whl (1.9 MB)\n",
            "\u001b[?25l   \u001b[90m━━━━━━━━━━━━━━━━━━━━━━━━━━━━━━━━━━━━━━━━\u001b[0m \u001b[32m0.0/1.9 MB\u001b[0m \u001b[31m?\u001b[0m eta \u001b[36m-:--:--\u001b[0m\r\u001b[2K   \u001b[91m━━━━━━━━━━━━━━━━━━━━━━━━━━━━━━━━━━━━━━━\u001b[0m\u001b[91m╸\u001b[0m \u001b[32m1.9/1.9 MB\u001b[0m \u001b[31m67.7 MB/s\u001b[0m eta \u001b[36m0:00:01\u001b[0m\r\u001b[2K   \u001b[90m━━━━━━━━━━━━━━━━━━━━━━━━━━━━━━━━━━━━━━━━\u001b[0m \u001b[32m1.9/1.9 MB\u001b[0m \u001b[31m41.8 MB/s\u001b[0m eta \u001b[36m0:00:00\u001b[0m\n",
            "\u001b[?25hInstalling collected packages: Faker\n",
            "Successfully installed Faker-37.5.3\n"
          ]
        }
      ],
      "source": [
        "pip install Faker\n"
      ]
    },
    {
      "cell_type": "code",
      "source": [
        "from faker import Faker\n",
        "fake = Faker()\n",
        "\n",
        "print(fake.name_male())\n",
        "print(fake.license_plate())\n",
        "print(fake.address())\n",
        "print(fake.date_of_birth())\n",
        "print(fake.passport_number())\n"
      ],
      "metadata": {
        "colab": {
          "base_uri": "https://localhost:8080/"
        },
        "id": "NmzjWFVtBzO2",
        "outputId": "d63bc9e4-f890-46aa-bd4b-68d3a3b3aad9"
      },
      "execution_count": 24,
      "outputs": [
        {
          "output_type": "stream",
          "name": "stdout",
          "text": [
            "Robert Hodges\n",
            "O79-SSN\n",
            "PSC 5313, Box 6295\n",
            "APO AP 73093\n",
            "1992-03-10\n",
            "I67862663\n"
          ]
        }
      ]
    },
    {
      "cell_type": "code",
      "source": [
        "for _ in range(5):\n",
        "  print(fake.unique.random_int(min=10, max=45))"
      ],
      "metadata": {
        "colab": {
          "base_uri": "https://localhost:8080/"
        },
        "id": "msQhUhJXFsv5",
        "outputId": "427130d5-845a-43e3-cb90-2a6c1a25ccf0"
      },
      "execution_count": 29,
      "outputs": [
        {
          "output_type": "stream",
          "name": "stdout",
          "text": [
            "42\n",
            "44\n",
            "30\n",
            "14\n",
            "11\n"
          ]
        }
      ]
    },
    {
      "cell_type": "code",
      "source": [
        "for _ in range(5):\n",
        "  print(fake.bothify(text='????-####', letters='ABCD'))"
      ],
      "metadata": {
        "colab": {
          "base_uri": "https://localhost:8080/"
        },
        "id": "unFsbWLDGRBy",
        "outputId": "3e912bce-18bf-4e2e-d02b-8d3bca9fc708"
      },
      "execution_count": 30,
      "outputs": [
        {
          "output_type": "stream",
          "name": "stdout",
          "text": [
            "ABCA-4974\n",
            "BBDA-3987\n",
            "BCBA-0047\n",
            "CDDA-9395\n",
            "DCBB-4316\n"
          ]
        }
      ]
    },
    {
      "cell_type": "code",
      "source": [
        "###Creating a excel sheet and holding faker data using pandas\n",
        "import pandas as pd\n",
        "data = []\n",
        "\n",
        "for i in range(5):\n",
        "  ##creating a variable to hold the generated data in the form of key-pair values\n",
        "  record = {\n",
        "      \"name\": fake.name(),\n",
        "      \"address\":fake.address(),\n",
        "      \"phone\": fake.phone_number()\n",
        "  }\n",
        "  data.append(record)\n",
        "\n",
        "df = pd.DataFrame(data)\n",
        "print(df.head(2))"
      ],
      "metadata": {
        "colab": {
          "base_uri": "https://localhost:8080/"
        },
        "id": "YhpW2siKHl7W",
        "outputId": "3ac7a974-199a-4ad1-c80a-6c58f503008e"
      },
      "execution_count": 32,
      "outputs": [
        {
          "output_type": "stream",
          "name": "stdout",
          "text": [
            "              name                                            address  \\\n",
            "0     Jordan Lewis  737 Benitez Village Apt. 634\\nLake Rachael, MI...   \n",
            "1  Jessica Aguilar  801 Hunter Stream Apt. 541\\nLake Johnborough, ...   \n",
            "\n",
            "                   phone  \n",
            "0           422-964-4255  \n",
            "1  001-296-915-1050x3394  \n"
          ]
        }
      ]
    },
    {
      "cell_type": "code",
      "source": [],
      "metadata": {
        "id": "OoiCNXUhLPtw"
      },
      "execution_count": null,
      "outputs": []
    },
    {
      "cell_type": "code",
      "source": [
        "from tabulate import tabulate\n",
        "\n",
        "# Print DataFrame as a well-formatted table in the console\n",
        "print(tabulate(df, headers='keys', tablefmt='fancy_grid', showindex=False))\n"
      ],
      "metadata": {
        "colab": {
          "base_uri": "https://localhost:8080/"
        },
        "id": "3Nai5TQaIyrH",
        "outputId": "43b936f5-3dc9-4332-d45d-9a4a711f27eb"
      },
      "execution_count": 34,
      "outputs": [
        {
          "output_type": "stream",
          "name": "stdout",
          "text": [
            "╒═════════════════╤═══════════════════════════════╤═══════════════════════╕\n",
            "│ name            │ address                       │ phone                 │\n",
            "╞═════════════════╪═══════════════════════════════╪═══════════════════════╡\n",
            "│ Jordan Lewis    │ 737 Benitez Village Apt. 634  │ 422-964-4255          │\n",
            "│                 │ Lake Rachael, MI 77926        │                       │\n",
            "├─────────────────┼───────────────────────────────┼───────────────────────┤\n",
            "│ Jessica Aguilar │ 801 Hunter Stream Apt. 541    │ 001-296-915-1050x3394 │\n",
            "│                 │ Lake Johnborough, GU 32299    │                       │\n",
            "├─────────────────┼───────────────────────────────┼───────────────────────┤\n",
            "│ Johnny Taylor   │ 41244 Carpenter Stravenue     │ (782)543-9542x5617    │\n",
            "│                 │ Hammondfurt, MS 60534         │                       │\n",
            "├─────────────────┼───────────────────────────────┼───────────────────────┤\n",
            "│ Alec Berry      │ 72994 Cynthia Falls Suite 677 │ 001-442-450-7073x7053 │\n",
            "│                 │ Port Katherineside, ND 53571  │                       │\n",
            "├─────────────────┼───────────────────────────────┼───────────────────────┤\n",
            "│ Matthew Perez   │ 981 Kirk Ways Apt. 550        │ 001-692-815-4268      │\n",
            "│                 │ Michaeltown, ID 59010         │                       │\n",
            "╘═════════════════╧═══════════════════════════════╧═══════════════════════╛\n"
          ]
        }
      ]
    },
    {
      "cell_type": "code",
      "source": [
        "import random\n",
        "from faker.providers import BaseProvider, DynamicProvider\n",
        "\n",
        "class QProv(BaseProvider):\n",
        "  def test_cat(self):\n",
        "    return random.choice([\"Kudzi Hove\", \"Bhinzi Jowo\",\"Tete Kamz\",\"Tino Jushe\"])\n",
        "\n",
        "fake.add_provider(QProv)\n",
        "\n",
        "print(fake.test_cat())"
      ],
      "metadata": {
        "colab": {
          "base_uri": "https://localhost:8080/"
        },
        "id": "osYzH0gPNZbo",
        "outputId": "d2c3a7b5-9e2e-44f3-e9a1-e3ea4a4922f0"
      },
      "execution_count": 53,
      "outputs": [
        {
          "output_type": "stream",
          "name": "stdout",
          "text": [
            "Bhinzi Jowo\n"
          ]
        }
      ]
    },
    {
      "cell_type": "code",
      "source": [
        "#easy way of creating providers using the dynamic function\n",
        "b_test_provider = DynamicProvider(\n",
        "    provider_name=\"Test\",\n",
        "    elements=[\"sadza\",\"chingwa\",\"huku\"])\n",
        "\n",
        "fake.add_provider(b_test_provider)\n",
        "print(fake.Test())"
      ],
      "metadata": {
        "colab": {
          "base_uri": "https://localhost:8080/"
        },
        "id": "ny7G0W0yO7aS",
        "outputId": "83da14a0-9f89-4d6a-ff82-536c9117ca01"
      },
      "execution_count": 57,
      "outputs": [
        {
          "output_type": "stream",
          "name": "stdout",
          "text": [
            "sadza\n"
          ]
        }
      ]
    },
    {
      "cell_type": "code",
      "source": [],
      "metadata": {
        "id": "XxGUkFBZLRPC"
      },
      "execution_count": null,
      "outputs": []
    }
  ]
}